{
 "cells": [
  {
   "cell_type": "markdown",
   "metadata": {},
   "source": [
    "# Airflow Pipeline script"
   ]
  },
  {
   "cell_type": "code",
   "execution_count": 2,
   "metadata": {},
   "outputs": [
    {
     "ename": "ModuleNotFoundError",
     "evalue": "No module named 'airflow'",
     "output_type": "error",
     "traceback": [
      "\u001b[0;31m---------------------------------------------------------------------------\u001b[0m",
      "\u001b[0;31mModuleNotFoundError\u001b[0m                       Traceback (most recent call last)",
      "Cell \u001b[0;32mIn[2], line 3\u001b[0m\n\u001b[1;32m      1\u001b[0m \u001b[38;5;66;03m# Libraries\u001b[39;00m\n\u001b[1;32m      2\u001b[0m \u001b[38;5;28;01mfrom\u001b[39;00m \u001b[38;5;21;01mdatetime\u001b[39;00m \u001b[38;5;28;01mimport\u001b[39;00m datetime, timedelta\n\u001b[0;32m----> 3\u001b[0m \u001b[38;5;28;01mfrom\u001b[39;00m \u001b[38;5;21;01mairflow\u001b[39;00m\u001b[38;5;21;01m.\u001b[39;00m\u001b[38;5;21;01mmodels\u001b[39;00m \u001b[38;5;28;01mimport\u001b[39;00m DAG\n\u001b[1;32m      4\u001b[0m \u001b[38;5;28;01mfrom\u001b[39;00m \u001b[38;5;21;01mairflow\u001b[39;00m\u001b[38;5;21;01m.\u001b[39;00m\u001b[38;5;21;01moperators\u001b[39;00m\u001b[38;5;21;01m.\u001b[39;00m\u001b[38;5;21;01mbas_operator\u001b[39;00m \u001b[38;5;28;01mimport\u001b[39;00m BashOperator\n",
      "\u001b[0;31mModuleNotFoundError\u001b[0m: No module named 'airflow'"
     ]
    }
   ],
   "source": [
    "# Libraries\n",
    "from datetime import datetime, timedelta\n",
    "from airflow.models import DAG\n",
    "from airflow.operators.bas_operator import BashOperator"
   ]
  },
  {
   "cell_type": "code",
   "execution_count": 3,
   "metadata": {},
   "outputs": [],
   "source": [
    "# Specifying default DAG arguments\n",
    "default_args = {\n",
    "    'owner' : 'name_of_owner',\n",
    "    'start_date' : datetime(2024,1,1),\n",
    "    'retries' : 1,\n",
    "    'retry_delay' : timedelta(minutes=5),\n",
    "}"
   ]
  },
  {
   "cell_type": "code",
   "execution_count": null,
   "metadata": {},
   "outputs": [],
   "source": [
    "# DAG definition\n",
    "dag = DAG('simple_example',\n",
    "          description = 'A simple example DAG',\n",
    "          default_args = default_args,\n",
    "          schedule = timedelta(seconds=5)\n",
    ")\n"
   ]
  },
  {
   "cell_type": "code",
   "execution_count": 4,
   "metadata": {},
   "outputs": [
    {
     "ename": "NameError",
     "evalue": "name 'BashOperator' is not defined",
     "output_type": "error",
     "traceback": [
      "\u001b[0;31m---------------------------------------------------------------------------\u001b[0m",
      "\u001b[0;31mNameError\u001b[0m                                 Traceback (most recent call last)",
      "Cell \u001b[0;32mIn[4], line 2\u001b[0m\n\u001b[1;32m      1\u001b[0m \u001b[38;5;66;03m# Task definitions\u001b[39;00m\n\u001b[0;32m----> 2\u001b[0m task1 \u001b[38;5;241m=\u001b[39m \u001b[43mBashOperator\u001b[49m(\n\u001b[1;32m      3\u001b[0m     task_id\u001b[38;5;241m=\u001b[39m\u001b[38;5;124m'\u001b[39m\u001b[38;5;124mprint_hello\u001b[39m\u001b[38;5;124m'\u001b[39m ,\n\u001b[1;32m      4\u001b[0m     bash_command\u001b[38;5;241m=\u001b[39m\u001b[38;5;124m'\u001b[39m\u001b[38;5;124mecho \u001b[39m\u001b[38;5;130;01m\\'\u001b[39;00m\u001b[38;5;124mGreetings. The date and time are \u001b[39m\u001b[38;5;130;01m\\'\u001b[39;00m\u001b[38;5;124m'\u001b[39m,\n\u001b[1;32m      5\u001b[0m     dag\u001b[38;5;241m=\u001b[39mdag,\n\u001b[1;32m      6\u001b[0m )\n\u001b[1;32m      8\u001b[0m task2 \u001b[38;5;241m=\u001b[39m BashOperator(\n\u001b[1;32m      9\u001b[0m     task_id\u001b[38;5;241m=\u001b[39m\u001b[38;5;124m'\u001b[39m\u001b[38;5;124mprint_date\u001b[39m\u001b[38;5;124m'\u001b[39m ,\n\u001b[1;32m     10\u001b[0m     bash_command\u001b[38;5;241m=\u001b[39m\u001b[38;5;124m'\u001b[39m\u001b[38;5;124mdate\u001b[39m\u001b[38;5;124m'\u001b[39m ,\n\u001b[1;32m     11\u001b[0m     dag\u001b[38;5;241m=\u001b[39mdag,\n\u001b[1;32m     12\u001b[0m \n\u001b[1;32m     13\u001b[0m )\n",
      "\u001b[0;31mNameError\u001b[0m: name 'BashOperator' is not defined"
     ]
    }
   ],
   "source": [
    "# Task definitions\n",
    "task1 = BashOperator(\n",
    "    task_id='print_hello' ,\n",
    "    bash_command='echo \\'Greetings. The date and time are \\'',\n",
    "    dag=dag,\n",
    ")\n",
    "\n",
    "task2 = BashOperator(\n",
    "    task_id='print_date' ,\n",
    "    bash_command='date' ,\n",
    "    dag=dag,\n",
    ")"
   ]
  },
  {
   "cell_type": "code",
   "execution_count": 5,
   "metadata": {},
   "outputs": [
    {
     "ename": "NameError",
     "evalue": "name 'task1' is not defined",
     "output_type": "error",
     "traceback": [
      "\u001b[0;31m---------------------------------------------------------------------------\u001b[0m",
      "\u001b[0;31mNameError\u001b[0m                                 Traceback (most recent call last)",
      "Cell \u001b[0;32mIn[5], line 1\u001b[0m\n\u001b[0;32m----> 1\u001b[0m \u001b[43mtask1\u001b[49m \u001b[38;5;241m>>\u001b[39m task2 \u001b[38;5;66;03m# task1 will run first\u001b[39;00m\n",
      "\u001b[0;31mNameError\u001b[0m: name 'task1' is not defined"
     ]
    }
   ],
   "source": [
    "task1 >> task2 # task1 will run first"
   ]
  }
 ],
 "metadata": {
  "kernelspec": {
   "display_name": "pythonProject3",
   "language": "python",
   "name": "python3"
  },
  "language_info": {
   "codemirror_mode": {
    "name": "ipython",
    "version": 3
   },
   "file_extension": ".py",
   "mimetype": "text/x-python",
   "name": "python",
   "nbconvert_exporter": "python",
   "pygments_lexer": "ipython3",
   "version": "3.8.20"
  }
 },
 "nbformat": 4,
 "nbformat_minor": 2
}
