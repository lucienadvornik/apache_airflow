{
 "cells": [
  {
   "cell_type": "markdown",
   "metadata": {},
   "source": [
    "# DAG with PythonOperator"
   ]
  },
  {
   "cell_type": "code",
   "execution_count": null,
   "metadata": {
    "vscode": {
     "languageId": "plaintext"
    }
   },
   "outputs": [],
   "source": [
    "# Import the libraries\n",
    "from datetime import timedelta\n",
    "# The DAG object; we'll need this to instantiate a DAG\n",
    "from airflow.models import DAG\n",
    "# Operators; you need this to write tasks!\n",
    "from airflow.operators.python import PythonOperator"
   ]
  },
  {
   "cell_type": "code",
   "execution_count": null,
   "metadata": {
    "vscode": {
     "languageId": "plaintext"
    }
   },
   "outputs": [],
   "source": [
    "# Easy scheduling\n",
    "from airflow.utils.dates import days_ago"
   ]
  },
  {
   "cell_type": "code",
   "execution_count": null,
   "metadata": {
    "vscode": {
     "languageId": "plaintext"
    }
   },
   "outputs": [],
   "source": [
    "# Define the path for the input and output files\n",
    "input_file = '/etc/passwd'\n",
    "extracted_file = 'extracted-data.txt'\n",
    "transformed_file = 'transformed.txt'\n",
    "output_file = 'data_for_analytics.csv'\n"
   ]
  },
  {
   "cell_type": "code",
   "execution_count": null,
   "metadata": {
    "vscode": {
     "languageId": "plaintext"
    }
   },
   "outputs": [],
   "source": [
    "def extract():\n",
    "    global input_file\n",
    "    print(\"Inside Extract\")\n",
    "    # Read the contents of the file into a string\n",
    "    with open(input_file, 'r') as infile, \\\n",
    "            open(extracted_file, 'w') as outfile:\n",
    "        for line in infile:\n",
    "            fields = line.split(':')\n",
    "            if len(fields) >= 6:\n",
    "                field_1 = fields[0]\n",
    "                field_3 = fields[2]\n",
    "                field_6 = fields[5]\n",
    "                outfile.write(field_1 + \":\" + field_3 + \":\" + field_6 + \"\\n\")\n",
    "def transform():\n",
    "    global extracted_file, transformed_file\n",
    "    print(\"Inside Transform\")\n",
    "    with open(extracted_file, 'r') as infile, \\\n",
    "            open(transformed_file, 'w') as outfile:\n",
    "        for line in infile:\n",
    "            processed_line = line.replace(':', ',')\n",
    "            outfile.write(processed_line + '\\n')\n",
    "def load():\n",
    "    global transformed_file, output_file\n",
    "    print(\"Inside Load\")\n",
    "    # Save the array to a CSV file\n",
    "    with open(transformed_file, 'r') as infile, \\\n",
    "            open(output_file, 'w') as outfile:\n",
    "        for line in infile:\n",
    "            outfile.write(line + '\\n')\n",
    "def check():\n",
    "    global output_file\n",
    "    print(\"Inside Check\")\n",
    "    # Save the array to a CSV file\n",
    "    with open(output_file, 'r') as infile:\n",
    "        for line in infile:\n",
    "            print(line)"
   ]
  },
  {
   "cell_type": "code",
   "execution_count": null,
   "metadata": {
    "vscode": {
     "languageId": "plaintext"
    }
   },
   "outputs": [],
   "source": [
    "# You can override them on a per-task basis during operator initialization\n",
    "default_args = {\n",
    "    'owner': 'Your name',\n",
    "    'start_date': days_ago(0),\n",
    "    'email': ['your email'],\n",
    "    'retries': 1,\n",
    "    'retry_delay': timedelta(minutes=5),\n",
    "}"
   ]
  },
  {
   "cell_type": "code",
   "execution_count": null,
   "metadata": {
    "vscode": {
     "languageId": "plaintext"
    }
   },
   "outputs": [],
   "source": [
    "# Define the DAG\n",
    "dag = DAG(\n",
    "    'my-first-python-etl-dag',\n",
    "    default_args=default_args,\n",
    "    description='My first DAG',\n",
    "    schedule_interval=timedelta(days=1),\n",
    ")"
   ]
  },
  {
   "cell_type": "code",
   "execution_count": null,
   "metadata": {
    "vscode": {
     "languageId": "plaintext"
    }
   },
   "outputs": [],
   "source": [
    "\n",
    "# Define the task named execute_extract to call the `extract` function\n",
    "execute_extract = PythonOperator(\n",
    "    task_id='extract',\n",
    "    python_callable=extract,\n",
    "    dag=dag,\n",
    ")\n",
    "# Define the task named execute_transform to call the `transform` function\n",
    "execute_transform = PythonOperator(\n",
    "    task_id='transform',\n",
    "    python_callable=transform,\n",
    "    dag=dag,\n",
    ")\n",
    "# Define the task named execute_load to call the `load` function\n",
    "execute_load = PythonOperator(\n",
    "    task_id='load',\n",
    "    python_callable=load,\n",
    "    dag=dag,\n",
    ")\n",
    "# Define the task named execute_load to call the `load` function\n",
    "execute_check = PythonOperator(\n",
    "    task_id='check',\n",
    "    python_callable=check,\n",
    "    dag=dag,\n",
    ")\n"
   ]
  },
  {
   "cell_type": "code",
   "execution_count": null,
   "metadata": {
    "vscode": {
     "languageId": "plaintext"
    }
   },
   "outputs": [],
   "source": [
    "# Task pipeline\n",
    "execute_extract >> execute_transform >> execute_load >> execute_check"
   ]
  }
 ],
 "metadata": {
  "language_info": {
   "name": "python"
  }
 },
 "nbformat": 4,
 "nbformat_minor": 2
}
